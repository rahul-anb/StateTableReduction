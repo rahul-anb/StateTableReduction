{
 "cells": [
  {
   "cell_type": "code",
   "execution_count": 183,
   "id": "7d8f276d",
   "metadata": {},
   "outputs": [],
   "source": [
    "import copy"
   ]
  },
  {
   "cell_type": "code",
   "execution_count": 184,
   "id": "faf9177e",
   "metadata": {},
   "outputs": [],
   "source": [
    "# machine = int(input(\"Enter 0 for mealy and 1 for moore\"))\n",
    "# print(\"mealy\" if machine==0 else \"moore\")"
   ]
  },
  {
   "cell_type": "code",
   "execution_count": 185,
   "id": "fe5da64e",
   "metadata": {},
   "outputs": [],
   "source": [
    "import pandas as pd\n",
    "table = pd.read_csv(\"mealy.csv\", header = 0)"
   ]
  },
  {
   "cell_type": "code",
   "execution_count": 186,
   "id": "5c68fae1",
   "metadata": {},
   "outputs": [
    {
     "data": {
      "text/html": [
       "<div>\n",
       "<style scoped>\n",
       "    .dataframe tbody tr th:only-of-type {\n",
       "        vertical-align: middle;\n",
       "    }\n",
       "\n",
       "    .dataframe tbody tr th {\n",
       "        vertical-align: top;\n",
       "    }\n",
       "\n",
       "    .dataframe thead th {\n",
       "        text-align: right;\n",
       "    }\n",
       "</style>\n",
       "<table border=\"1\" class=\"dataframe\">\n",
       "  <thead>\n",
       "    <tr style=\"text-align: right;\">\n",
       "      <th></th>\n",
       "      <th>Present State</th>\n",
       "      <th>Next state x=0</th>\n",
       "      <th>Next state x=1</th>\n",
       "      <th>Output x=0</th>\n",
       "      <th>Output x=1</th>\n",
       "    </tr>\n",
       "  </thead>\n",
       "  <tbody>\n",
       "  </tbody>\n",
       "</table>\n",
       "</div>"
      ],
      "text/plain": [
       "Empty DataFrame\n",
       "Columns: [Present State, Next state x=0, Next state x=1, Output x=0, Output x=1]\n",
       "Index: []"
      ]
     },
     "execution_count": 186,
     "metadata": {},
     "output_type": "execute_result"
    }
   ],
   "source": [
    "table.head()"
   ]
  },
  {
   "cell_type": "code",
   "execution_count": 187,
   "id": "778a83bf",
   "metadata": {},
   "outputs": [],
   "source": [
    "# ADDING ROWS TO TABLE\n",
    "# rowDict = {'Present State': ['a','b','c','d'],\n",
    "#         'Next state x=0':['b','b','b','b'],\n",
    "#         'Next state x=1':['c','d','a','c'],\n",
    "#         'Output x=0':    [0,0,0,1],\n",
    "#         'Output x=1':    [0,0,0,0]}\n",
    "# rowDict = {'Present State': ['a','b','c','d','e'],\n",
    "#         'Next state x=0':['b','b','b','e','b'],\n",
    "#         'Next state x=1':['c','d','a','c','d'],\n",
    "#         'Output x=0':    [0,0,0,1,0],\n",
    "#         'Output x=1':    [0,0,0,0,0]}\n",
    "\n",
    "# rowDict = {'Present State': ['a','b','c','d','e','f'],\n",
    "#         'Next state x=0':['b','a','d','c','a','e'],\n",
    "#         'Next state x=1':['c','e','a','e','f','f'],\n",
    "#         'Output x=0':    [0,1,0,1,1,0],\n",
    "#         'Output x=1':    [1,0,1,0,0,1]}\n",
    "\n",
    "# rowDict = {'Present State': ['a','b','c','d','e','f','g'],\n",
    "#         'Next state x=0':['b','d','f','a','a','a','a'],\n",
    "#         'Next state x=1':['c','e','g','a','a','a','a'],\n",
    "#         'Output x=0':    [0,0,0,0,1,0,1],\n",
    "#         'Output x=1':    [0,0,0,0,0,0,0]}\n",
    "\n",
    "# rowDict = {'Present State': ['a','b','c','d','e','f','g','h','i','j','k','l','m','n','o'],\n",
    "#         'Next state x=0':   ['b','d','f','h','j','l','n','a','a','a','a','a','a','a','a'],\n",
    "#         'Next state x=1':   ['c','e','g','i','k','m','o','a','a','a','a','a','a','a','a'],\n",
    "#         'Output x=0':       [0,0,0,0,0,0,0,0,0,0,1,0,1,0,0],\n",
    "#         'Output x=1':       [0,0,0,0,0,0,0,0,0,0,0,0,0,0,0]}\n",
    "\n",
    "\n",
    "rowDict = {'Present State': ['a','b','c','d','e','f','g'],\n",
    "        'Next state x=0':['a','d','f','d','b','g','a'],\n",
    "        'Next state x=1':['b','c','b','f','g','c','f'],\n",
    "        'Output x=0':    [0,0,0,0,0,0,0],\n",
    "        'Output x=1':    [0,1,0,0,0,1,0]}\n",
    "\n",
    "\n",
    "# rowTable = table.append(rowDict, ignore_index = True)\n",
    "rowTable = pd.DataFrame(rowDict)"
   ]
  },
  {
   "cell_type": "code",
   "execution_count": 188,
   "id": "6df8ab1e",
   "metadata": {},
   "outputs": [
    {
     "data": {
      "text/html": [
       "<div>\n",
       "<style scoped>\n",
       "    .dataframe tbody tr th:only-of-type {\n",
       "        vertical-align: middle;\n",
       "    }\n",
       "\n",
       "    .dataframe tbody tr th {\n",
       "        vertical-align: top;\n",
       "    }\n",
       "\n",
       "    .dataframe thead th {\n",
       "        text-align: right;\n",
       "    }\n",
       "</style>\n",
       "<table border=\"1\" class=\"dataframe\">\n",
       "  <thead>\n",
       "    <tr style=\"text-align: right;\">\n",
       "      <th></th>\n",
       "      <th>Present State</th>\n",
       "      <th>Next state x=0</th>\n",
       "      <th>Next state x=1</th>\n",
       "      <th>Output x=0</th>\n",
       "      <th>Output x=1</th>\n",
       "    </tr>\n",
       "  </thead>\n",
       "  <tbody>\n",
       "    <tr>\n",
       "      <th>0</th>\n",
       "      <td>a</td>\n",
       "      <td>a</td>\n",
       "      <td>b</td>\n",
       "      <td>0</td>\n",
       "      <td>0</td>\n",
       "    </tr>\n",
       "    <tr>\n",
       "      <th>1</th>\n",
       "      <td>b</td>\n",
       "      <td>d</td>\n",
       "      <td>c</td>\n",
       "      <td>0</td>\n",
       "      <td>1</td>\n",
       "    </tr>\n",
       "    <tr>\n",
       "      <th>2</th>\n",
       "      <td>c</td>\n",
       "      <td>f</td>\n",
       "      <td>b</td>\n",
       "      <td>0</td>\n",
       "      <td>0</td>\n",
       "    </tr>\n",
       "    <tr>\n",
       "      <th>3</th>\n",
       "      <td>d</td>\n",
       "      <td>d</td>\n",
       "      <td>f</td>\n",
       "      <td>0</td>\n",
       "      <td>0</td>\n",
       "    </tr>\n",
       "    <tr>\n",
       "      <th>4</th>\n",
       "      <td>e</td>\n",
       "      <td>b</td>\n",
       "      <td>g</td>\n",
       "      <td>0</td>\n",
       "      <td>0</td>\n",
       "    </tr>\n",
       "  </tbody>\n",
       "</table>\n",
       "</div>"
      ],
      "text/plain": [
       "  Present State Next state x=0 Next state x=1  Output x=0  Output x=1\n",
       "0             a              a              b           0           0\n",
       "1             b              d              c           0           1\n",
       "2             c              f              b           0           0\n",
       "3             d              d              f           0           0\n",
       "4             e              b              g           0           0"
      ]
     },
     "execution_count": 188,
     "metadata": {},
     "output_type": "execute_result"
    }
   ],
   "source": [
    "rowTable.head()"
   ]
  },
  {
   "cell_type": "code",
   "execution_count": 189,
   "id": "bb183aa6",
   "metadata": {},
   "outputs": [
    {
     "data": {
      "text/plain": [
       "[['a', 'a', 'b', 0, 0],\n",
       " ['b', 'd', 'c', 0, 1],\n",
       " ['c', 'f', 'b', 0, 0],\n",
       " ['d', 'd', 'f', 0, 0],\n",
       " ['e', 'b', 'g', 0, 0],\n",
       " ['f', 'g', 'c', 0, 1],\n",
       " ['g', 'a', 'f', 0, 0]]"
      ]
     },
     "execution_count": 189,
     "metadata": {},
     "output_type": "execute_result"
    }
   ],
   "source": [
    "table = rowTable.values.tolist()\n",
    "table"
   ]
  },
  {
   "cell_type": "code",
   "execution_count": 190,
   "id": "905a806a",
   "metadata": {},
   "outputs": [
    {
     "data": {
      "text/plain": [
       "[[], [], [], []]"
      ]
     },
     "execution_count": 190,
     "metadata": {},
     "output_type": "execute_result"
    }
   ],
   "source": [
    "#finding fully equivalent row\n",
    "\n",
    "\"\"\"\n",
    "0: 00\n",
    "1: 01\n",
    "2: 10\n",
    "3: 11\n",
    "\"\"\"\n",
    "\n",
    "output = [[],[],[],[]]\n",
    "for i in range(len(table)):\n",
    "    for j in range(len(table)):\n",
    "        if i!=j:\n",
    "#             print(table[i][1:],table[j][1:],table[i][1:]==table[j][1:])\n",
    "            if table[i][1:]==table[j][1:]:\n",
    "#                 print(table[i])\n",
    "                if table[i][3:]==[0,0]:\n",
    "                    output[0].append(table[i][0])\n",
    "                elif table[i][3:]==[0,1]:\n",
    "                    output[1].append(table[i][0])\n",
    "                elif table[i][3:]==[1,0]:\n",
    "                    output[2].append(table[i][0])\n",
    "                elif table[i][3:]==[1,1]:\n",
    "                    output[3].append(table[i][0])\n",
    "for i in range(len(output)):\n",
    "    output[i]= list(set(output[i]))\n",
    "    output[i].sort()     \n",
    "output\n",
    "        "
   ]
  },
  {
   "cell_type": "code",
   "execution_count": 191,
   "id": "cc58ab53",
   "metadata": {},
   "outputs": [],
   "source": [
    "# #deleting equivalent rows\n",
    "# res_arr = []\n",
    "# for i in output:\n",
    "#     if len(i) != 0:\n",
    "#         for k in range(len(table)):\n",
    "#             if table[k][0] in i[1:]:\n",
    "#                 del table[k]\n",
    "#                 break"
   ]
  },
  {
   "cell_type": "code",
   "execution_count": 192,
   "id": "cde7209d",
   "metadata": {},
   "outputs": [
    {
     "data": {
      "text/plain": [
       "[['a', 'a', 'b', 0, 0],\n",
       " ['b', 'd', 'c', 0, 1],\n",
       " ['c', 'f', 'b', 0, 0],\n",
       " ['d', 'd', 'f', 0, 0],\n",
       " ['e', 'b', 'g', 0, 0],\n",
       " ['f', 'g', 'c', 0, 1],\n",
       " ['g', 'a', 'f', 0, 0]]"
      ]
     },
     "execution_count": 192,
     "metadata": {},
     "output_type": "execute_result"
    }
   ],
   "source": [
    "table"
   ]
  },
  {
   "cell_type": "code",
   "execution_count": 193,
   "id": "979b7196",
   "metadata": {},
   "outputs": [
    {
     "data": {
      "text/plain": [
       "[['a', 'a', 'b', 0, 0],\n",
       " ['b', 'd', 'c', 0, 1],\n",
       " ['c', 'f', 'b', 0, 0],\n",
       " ['d', 'd', 'f', 0, 0],\n",
       " ['e', 'b', 'g', 0, 0],\n",
       " ['f', 'g', 'c', 0, 1],\n",
       " ['g', 'a', 'f', 0, 0]]"
      ]
     },
     "execution_count": 193,
     "metadata": {},
     "output_type": "execute_result"
    }
   ],
   "source": [
    "# replacing equivalent rows\n",
    "for i in output:\n",
    "    if len(i) != 0:\n",
    "        for j in table:\n",
    "            if j[1] in i[1:]:\n",
    "                j[1] = i[0]\n",
    "            if j[2] in i[1:]:\n",
    "                j[2] = i[0]\n",
    "\n",
    "table\n",
    "            "
   ]
  },
  {
   "cell_type": "code",
   "execution_count": 194,
   "id": "3cf01ad2",
   "metadata": {},
   "outputs": [
    {
     "data": {
      "text/plain": [
       "[[[], [], [], [], [], [], []],\n",
       " [[], [], [], [], [], [], []],\n",
       " [[], [], [], [], [], [], []],\n",
       " [[], [], [], [], [], [], []],\n",
       " [[], [], [], [], [], [], []],\n",
       " [[], [], [], [], [], [], []],\n",
       " [[], [], [], [], [], [], []]]"
      ]
     },
     "execution_count": 194,
     "metadata": {},
     "output_type": "execute_result"
    }
   ],
   "source": [
    "STable =[]\n",
    "for i in range(len(table)):\n",
    "    t=[]\n",
    "    for j in range(len(table)):\n",
    "        t.append([])\n",
    "    STable.append(t)\n",
    "STable"
   ]
  },
  {
   "cell_type": "code",
   "execution_count": 195,
   "id": "35f43205",
   "metadata": {},
   "outputs": [],
   "source": [
    "def disp(l):\n",
    "    for i in l:\n",
    "        print(i)"
   ]
  },
  {
   "cell_type": "code",
   "execution_count": 196,
   "id": "9e9f6897",
   "metadata": {},
   "outputs": [
    {
     "name": "stdout",
     "output_type": "stream",
     "text": [
      "['a', 'a', 'b', 0, 0]\n",
      "['b', 'd', 'c', 0, 1]\n",
      "['c', 'f', 'b', 0, 0]\n",
      "['d', 'd', 'f', 0, 0]\n",
      "['e', 'b', 'g', 0, 0]\n",
      "['f', 'g', 'c', 0, 1]\n",
      "['g', 'a', 'f', 0, 0]\n"
     ]
    }
   ],
   "source": [
    "\"\"\"\n",
    "range: row: B-D 1-3\n",
    "       col: A-C 0-2\n",
    "\"\"\"\n",
    "\n",
    "disp(table)"
   ]
  },
  {
   "cell_type": "code",
   "execution_count": 197,
   "id": "6255050e",
   "metadata": {
    "scrolled": true
   },
   "outputs": [
    {
     "name": "stdout",
     "output_type": "stream",
     "text": [
      "[[], [], [], [], [], [], []]\n",
      "[['X'], [], [], [], [], [], []]\n",
      "[['a=f'], ['X'], [], [], [], [], []]\n",
      "[['b=f'], ['X'], ['f=d', 'b=f'], [], [], [], []]\n",
      "[['a=b', 'b=g'], ['X'], ['f=b', 'b=g'], ['d=b', 'f=g'], [], [], []]\n",
      "[['X'], ['d=g'], ['X'], ['X'], ['X'], [], []]\n",
      "[['b=f'], ['X'], ['f=a', 'b=f'], ['d=a'], ['b=a', 'g=f'], ['X'], []]\n"
     ]
    }
   ],
   "source": [
    "# first iteration\n",
    "import time\n",
    "from IPython.display import clear_output\n",
    "\n",
    "row = 0\n",
    "col = 0\n",
    "\n",
    "for i in range(0, len(table)):\n",
    "    for j in range(0, len(table)):\n",
    "        disp(STable)\n",
    "        time.sleep(0.5)\n",
    "        clear_output(wait=True)\n",
    "        \n",
    "        if i!=j and i<j and row<len(table):\n",
    "            if table[i][3:]==table[j][3:] and 'X' not in STable[row][col]:\n",
    "                if table[i][1] != table[j][1] and (table[i][0]+table[j][0]) != table[i][1]+table[j][1] and (table[i][0]+table[j][0]) != table[j][1]+table[i][1]:\n",
    "                    STable[row][col].append(table[i][1]+\"=\"+table[j][1])\n",
    "                if (table[i][2]+\"=\"+table[j][2]) not in STable[row][col] and table[i][2] != table[j][2] and (table[i][0]+table[j][0]) != table[i][2]+table[j][2] and (table[i][0]+table[j][0]) != table[j][2]+table[i][2]:\n",
    "                    STable[row][col].append(table[i][2]+\"=\"+table[j][2])\n",
    "            else:\n",
    "                STable[row][col].append('X')\n",
    "            if len(STable[row][col])==0:\n",
    "                STable[row][col].append('X')\n",
    "        row+=1\n",
    "    col+=1\n",
    "    row=0\n",
    "    \n",
    "disp(STable)"
   ]
  },
  {
   "cell_type": "code",
   "execution_count": 198,
   "id": "86a7eea8",
   "metadata": {},
   "outputs": [
    {
     "data": {
      "text/plain": [
       "'b'"
      ]
     },
     "execution_count": 198,
     "metadata": {},
     "output_type": "execute_result"
    }
   ],
   "source": [
    "chr(97+1)\n"
   ]
  },
  {
   "cell_type": "code",
   "execution_count": 199,
   "id": "6f7f647a",
   "metadata": {},
   "outputs": [
    {
     "name": "stdout",
     "output_type": "stream",
     "text": [
      "['X'] \n",
      "['a=f'] ['X'] \n",
      "['b=f'] ['X'] ['f=d', 'b=f'] \n",
      "['a=b', 'b=g'] ['X'] ['f=b', 'b=g'] ['d=b', 'f=g'] \n",
      "['X'] ['d=g'] ['X'] ['X'] ['X'] \n",
      "['b=f'] ['X'] ['f=a', 'b=f'] ['d=a'] ['b=a', 'g=f'] ['X'] \n"
     ]
    },
    {
     "data": {
      "text/plain": [
       "['b=a', 'c=b', 'd=b', 'e=b', 'f=a', 'f=c', 'f=d', 'f=e', 'g=b', 'g=f']"
      ]
     },
     "execution_count": 199,
     "metadata": {},
     "output_type": "execute_result"
    }
   ],
   "source": [
    "row = 'b'\n",
    "col = 'a'\n",
    "row1 = 0\n",
    "col1 = 0\n",
    "notEqState = []\n",
    "for i in range(1, len(STable)):\n",
    "    for j in range(0, i):\n",
    "        print(STable[i][j], end =\" \")\n",
    "        if 'X' in STable[i][j]:\n",
    "            notEqState.append(row+'='+col)\n",
    "        col = chr(ord(col)+1)\n",
    "    row = chr(ord(row)+1)\n",
    "    col = 'a'\n",
    "    print()\n",
    "\n",
    "\n",
    "#         print(STtable[i][j])\n",
    "notEqState"
   ]
  },
  {
   "cell_type": "code",
   "execution_count": 200,
   "id": "5e2a48bb",
   "metadata": {},
   "outputs": [],
   "source": [
    "def implication_table_step():\n",
    "    row = 'b'\n",
    "    col = 'a'\n",
    "    for i in range(1, len(STable)):\n",
    "        for j in range(0, i):\n",
    "#             disp(STable)\n",
    "#             time.sleep(0.5)\n",
    "#             clear_output(wait=True)\n",
    "#             print(STable[i][j], end =\" \")\n",
    "            for k in STable[i][j]:\n",
    "                if k in notEqState or k[::-1] in notEqState and k!='X':\n",
    "                    notEqState.append(row+'='+col)\n",
    "#                     notEqState.extend(STable[i][j])\n",
    "                    STable[i][j]=['X']\n",
    "            col = chr(ord(col)+1)\n",
    "        row = chr(ord(row)+1)\n",
    "        col = 'a'\n",
    "\n",
    "#     print()"
   ]
  },
  {
   "cell_type": "markdown",
   "id": "62bf5d0e",
   "metadata": {},
   "source": [
    "<h1>Please add that count condition to the below function</h1>"
   ]
  },
  {
   "cell_type": "code",
   "execution_count": 201,
   "id": "4c3dc323",
   "metadata": {},
   "outputs": [],
   "source": [
    "def repeat_implication_table():\n",
    "    xCount = 0\n",
    "    xCountNew = 0\n",
    "    for i in range(1, len(STable)):\n",
    "        for j in range(0, i):\n",
    "            xCount = 0\n",
    "            xCountNew = 0\n",
    "            for k in range(1, len(STable)):\n",
    "                for l in range(0, i):\n",
    "                    if STable[i][j]==['X']:\n",
    "                        xCount+=1\n",
    "            implication_table_step()\n",
    "            for k in range(1, len(STable)):\n",
    "                for l in range(0, i):\n",
    "                    if STable[i][j]==['X']:\n",
    "                        xCountNew+=1\n",
    "#             print('test',xCountNew,int((len(STable)-1)*(len(STable))/2))\n",
    "            if xCount==xCountNew or xCountNew==int((len(STable)-1)*(len(STable))/2):\n",
    "                return"
   ]
  },
  {
   "cell_type": "code",
   "execution_count": 202,
   "id": "c3f8fdc2",
   "metadata": {},
   "outputs": [
    {
     "name": "stdout",
     "output_type": "stream",
     "text": [
      "[[], [], [], [], [], [], []]\n",
      "[['X'], [], [], [], [], [], []]\n",
      "[['a=f'], ['X'], [], [], [], [], []]\n",
      "[['b=f'], ['X'], ['f=d', 'b=f'], [], [], [], []]\n",
      "[['a=b', 'b=g'], ['X'], ['f=b', 'b=g'], ['d=b', 'f=g'], [], [], []]\n",
      "[['X'], ['d=g'], ['X'], ['X'], ['X'], [], []]\n",
      "[['b=f'], ['X'], ['f=a', 'b=f'], ['d=a'], ['b=a', 'g=f'], ['X'], []]\n"
     ]
    }
   ],
   "source": [
    "disp(STable)"
   ]
  },
  {
   "cell_type": "code",
   "execution_count": null,
   "id": "76bfd5b2",
   "metadata": {},
   "outputs": [],
   "source": []
  },
  {
   "cell_type": "code",
   "execution_count": null,
   "id": "bb556764",
   "metadata": {},
   "outputs": [],
   "source": []
  },
  {
   "cell_type": "code",
   "execution_count": null,
   "id": "9ccdd847",
   "metadata": {},
   "outputs": [],
   "source": []
  },
  {
   "cell_type": "code",
   "execution_count": null,
   "id": "fd9d16fb",
   "metadata": {},
   "outputs": [],
   "source": []
  },
  {
   "cell_type": "code",
   "execution_count": null,
   "id": "bc1c111f",
   "metadata": {},
   "outputs": [],
   "source": []
  },
  {
   "cell_type": "code",
   "execution_count": 203,
   "id": "2e8a85f7",
   "metadata": {},
   "outputs": [],
   "source": [
    "repeat_implication_table()\n",
    "# disp(STable)"
   ]
  },
  {
   "cell_type": "code",
   "execution_count": 204,
   "id": "754b48c7",
   "metadata": {},
   "outputs": [
    {
     "data": {
      "text/plain": [
       "[['b=f'], ['d=g'], ['b=f'], ['d=a']]"
      ]
     },
     "execution_count": 204,
     "metadata": {},
     "output_type": "execute_result"
    }
   ],
   "source": [
    "equivalentStates = []\n",
    "for i in range(1, len(STable)):\n",
    "    for j in range(0, i):\n",
    "        if STable[i][j]!=['X']:\n",
    "            equivalentStates.append(STable[i][j])\n",
    "equivalentStates"
   ]
  },
  {
   "cell_type": "code",
   "execution_count": 205,
   "id": "95fd998a",
   "metadata": {
    "scrolled": true
   },
   "outputs": [],
   "source": [
    "for i in equivalentStates:\n",
    "    for j in range(len(table)):\n",
    "        if table[j][0]==i[0][-1]:\n",
    "#             print(table[j])\n",
    "            del table[j]\n",
    "            break\n",
    "    for j in range(len(table)):\n",
    "        for k in range(1,3):\n",
    "            if table[j][k]==i[0][-1]:\n",
    "                table[j][k]=i[0][0]"
   ]
  },
  {
   "cell_type": "code",
   "execution_count": 206,
   "id": "9160b722",
   "metadata": {},
   "outputs": [
    {
     "data": {
      "text/plain": [
       "[['b', 'd', 'c', 0, 1],\n",
       " ['c', 'b', 'b', 0, 0],\n",
       " ['d', 'd', 'b', 0, 0],\n",
       " ['e', 'b', 'd', 0, 0]]"
      ]
     },
     "execution_count": 206,
     "metadata": {},
     "output_type": "execute_result"
    }
   ],
   "source": [
    "table"
   ]
  },
  {
   "cell_type": "code",
   "execution_count": null,
   "id": "62f1d984",
   "metadata": {},
   "outputs": [],
   "source": []
  },
  {
   "cell_type": "code",
   "execution_count": null,
   "id": "8ac2a2c3",
   "metadata": {},
   "outputs": [],
   "source": []
  }
 ],
 "metadata": {
  "kernelspec": {
   "display_name": "Python 3 (ipykernel)",
   "language": "python",
   "name": "python3"
  },
  "language_info": {
   "codemirror_mode": {
    "name": "ipython",
    "version": 3
   },
   "file_extension": ".py",
   "mimetype": "text/x-python",
   "name": "python",
   "nbconvert_exporter": "python",
   "pygments_lexer": "ipython3",
   "version": "3.9.12"
  }
 },
 "nbformat": 4,
 "nbformat_minor": 5
}
