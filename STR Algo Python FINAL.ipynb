{
 "cells": [
  {
   "cell_type": "code",
   "execution_count": 47,
   "id": "eeb7cad2",
   "metadata": {},
   "outputs": [
    {
     "data": {
      "text/html": [
       "<div>\n",
       "<style scoped>\n",
       "    .dataframe tbody tr th:only-of-type {\n",
       "        vertical-align: middle;\n",
       "    }\n",
       "\n",
       "    .dataframe tbody tr th {\n",
       "        vertical-align: top;\n",
       "    }\n",
       "\n",
       "    .dataframe thead th {\n",
       "        text-align: right;\n",
       "    }\n",
       "</style>\n",
       "<table border=\"1\" class=\"dataframe\">\n",
       "  <thead>\n",
       "    <tr style=\"text-align: right;\">\n",
       "      <th></th>\n",
       "      <th>Present State</th>\n",
       "      <th>Next state x=0</th>\n",
       "      <th>Next state x=1</th>\n",
       "      <th>Output x=0</th>\n",
       "      <th>Output x=1</th>\n",
       "    </tr>\n",
       "  </thead>\n",
       "  <tbody>\n",
       "  </tbody>\n",
       "</table>\n",
       "</div>"
      ],
      "text/plain": [
       "Empty DataFrame\n",
       "Columns: [Present State, Next state x=0, Next state x=1, Output x=0, Output x=1]\n",
       "Index: []"
      ]
     },
     "execution_count": 47,
     "metadata": {},
     "output_type": "execute_result"
    }
   ],
   "source": [
    "import pandas as pd\n",
    "table = pd.read_csv(\"mealy.csv\", header = 0)\n",
    "table.head()"
   ]
  },
  {
   "cell_type": "code",
   "execution_count": 48,
   "id": "c1dcbfbd",
   "metadata": {},
   "outputs": [],
   "source": [
    "# ADDING ROWS TO TABLE\n",
    "# rowDict = {'Present State': ['a','b','c','d'],\n",
    "#         'Next state x=0':['b','b','b','b'],\n",
    "#         'Next state x=1':['c','d','a','c'],\n",
    "#         'Output x=0':    [0,0,0,1],\n",
    "#         'Output x=1':    [0,0,0,0]}\n",
    "# rowDict = {'Present State': ['a','b','c','d','e'],\n",
    "#         'Next state x=0':['b','b','b','e','b'],\n",
    "#         'Next state x=1':['c','d','a','c','d'],\n",
    "#         'Output x=0':    [0,0,0,1,0],\n",
    "#         'Output x=1':    [0,0,0,0,0]}\n",
    "\n",
    "rowDict = {'Present State': ['a','b','c','d','e','f'],\n",
    "        'Next state x=0':['b','a','d','c','a','e'],\n",
    "        'Next state x=1':['c','e','a','e','f','f'],\n",
    "        'Output x=0':    [0,1,0,1,1,0],\n",
    "        'Output x=1':    [1,0,1,0,0,1]}\n",
    "\n",
    "# rowDict = {'Present State': ['a','b','c','d','e','f','g'],\n",
    "#         'Next state x=0':['b','d','f','a','a','a','a'],\n",
    "#         'Next state x=1':['c','e','g','a','a','a','a'],\n",
    "#         'Output x=0':    [0,0,0,0,1,0,1],\n",
    "#         'Output x=1':    [0,0,0,0,0,0,0]}\n",
    "\n",
    "rowDict = {'Present State': ['a','b','c','d','e','f','g','h','i','j','k','l','m','n','o'],\n",
    "        'Next state x=0':   ['b','d','f','h','j','l','n','a','a','a','a','a','a','a','a'],\n",
    "        'Next state x=1':   ['c','e','g','i','k','m','o','a','a','a','a','a','a','a','a'],\n",
    "        'Output x=0':       [0,0,0,0,0,0,0,0,0,0,1,0,1,0,0],\n",
    "        'Output x=1':       [0,0,0,0,0,0,0,0,0,0,0,0,0,0,0]}\n",
    "\n",
    "\n",
    "# rowDict = {'Present State': ['a','b','c','d','e','f','g'],\n",
    "#         'Next state x=0':['a','d','f','d','b','g','a'],\n",
    "#         'Next state x=1':['b','c','b','f','g','c','f'],\n",
    "#         'Output x=0':    [0,0,0,0,0,0,0],\n",
    "#         'Output x=1':    [0,0,0,0,0,0,0]}\n",
    "\n",
    "# rowDict = {'Present State': ['a','b','c','d','e','f','g'],\n",
    "#         'Next state x=0':['d','e','g','a','a','c','a'],\n",
    "#         'Next state x=1':['a','a','f','d','d','b','e'],\n",
    "#         'Output x=0':    [0,0,0,1,1,0,1],\n",
    "#         'Output x=1':    [0,0,1,0,0,0,0]}\n",
    "\n",
    "rowDict = {'Present State': ['a','b','c','d','e','f','g','h'],\n",
    "        'Next state x=0':['c','d','h','b','e','f','c','e'],\n",
    "        'Next state x=1':['f','e','g','g','b','a','g','f'],\n",
    "        'Output x=0':    [0,0,0,0,0,0,0,0],\n",
    "        'Output x=1':    [0,0,0,0,1,1,1,0]}\n",
    "\n",
    "rowDict = {'Present State': ['a','b','c','d','e','f','g','h'],\n",
    "        'Next state x=0':['h','h','h','a','d','d','d','e'],\n",
    "        'Next state x=1':['c','f','a','h','g','b','e','d'],\n",
    "        'Output x=0':    [0,0,0,0,0,0,0,0],\n",
    "        'Output x=1':    [0,0,1,1,0,1,1,1]}\n",
    "\n",
    "# rowDict = {'Present State': ['a','b','c','d','e','f','g'],\n",
    "#         'Next state x=0':   ['b','d','f','a','a','a','a'],\n",
    "#         'Next state x=1':   ['c','e','g','a','a','a','a'],\n",
    "#         'Output x=0':    [0,0,0,0,1,0,1],\n",
    "#         'Output x=1':    [0,0,0,0,0,0,0]}\n",
    "\n",
    "\n",
    "\n",
    "# rowTable = table.append(rowDict, ignore_index = True)\n",
    "rowTable = pd.DataFrame(rowDict)"
   ]
  },
  {
   "cell_type": "code",
   "execution_count": 49,
   "id": "ee721305",
   "metadata": {},
   "outputs": [
    {
     "data": {
      "text/html": [
       "<div>\n",
       "<style scoped>\n",
       "    .dataframe tbody tr th:only-of-type {\n",
       "        vertical-align: middle;\n",
       "    }\n",
       "\n",
       "    .dataframe tbody tr th {\n",
       "        vertical-align: top;\n",
       "    }\n",
       "\n",
       "    .dataframe thead th {\n",
       "        text-align: right;\n",
       "    }\n",
       "</style>\n",
       "<table border=\"1\" class=\"dataframe\">\n",
       "  <thead>\n",
       "    <tr style=\"text-align: right;\">\n",
       "      <th></th>\n",
       "      <th>Present State</th>\n",
       "      <th>Next state x=0</th>\n",
       "      <th>Next state x=1</th>\n",
       "      <th>Output x=0</th>\n",
       "      <th>Output x=1</th>\n",
       "    </tr>\n",
       "  </thead>\n",
       "  <tbody>\n",
       "    <tr>\n",
       "      <th>0</th>\n",
       "      <td>a</td>\n",
       "      <td>h</td>\n",
       "      <td>c</td>\n",
       "      <td>0</td>\n",
       "      <td>0</td>\n",
       "    </tr>\n",
       "    <tr>\n",
       "      <th>1</th>\n",
       "      <td>b</td>\n",
       "      <td>h</td>\n",
       "      <td>f</td>\n",
       "      <td>0</td>\n",
       "      <td>0</td>\n",
       "    </tr>\n",
       "    <tr>\n",
       "      <th>2</th>\n",
       "      <td>c</td>\n",
       "      <td>h</td>\n",
       "      <td>a</td>\n",
       "      <td>0</td>\n",
       "      <td>1</td>\n",
       "    </tr>\n",
       "    <tr>\n",
       "      <th>3</th>\n",
       "      <td>d</td>\n",
       "      <td>a</td>\n",
       "      <td>h</td>\n",
       "      <td>0</td>\n",
       "      <td>1</td>\n",
       "    </tr>\n",
       "    <tr>\n",
       "      <th>4</th>\n",
       "      <td>e</td>\n",
       "      <td>d</td>\n",
       "      <td>g</td>\n",
       "      <td>0</td>\n",
       "      <td>0</td>\n",
       "    </tr>\n",
       "  </tbody>\n",
       "</table>\n",
       "</div>"
      ],
      "text/plain": [
       "  Present State Next state x=0 Next state x=1  Output x=0  Output x=1\n",
       "0             a              h              c           0           0\n",
       "1             b              h              f           0           0\n",
       "2             c              h              a           0           1\n",
       "3             d              a              h           0           1\n",
       "4             e              d              g           0           0"
      ]
     },
     "execution_count": 49,
     "metadata": {},
     "output_type": "execute_result"
    }
   ],
   "source": [
    "rowTable.head()"
   ]
  },
  {
   "cell_type": "code",
   "execution_count": 50,
   "id": "2ef9ef55",
   "metadata": {},
   "outputs": [
    {
     "data": {
      "text/plain": [
       "[['a', 'h', 'c', 0, 0],\n",
       " ['b', 'h', 'f', 0, 0],\n",
       " ['c', 'h', 'a', 0, 1],\n",
       " ['d', 'a', 'h', 0, 1],\n",
       " ['e', 'd', 'g', 0, 0],\n",
       " ['f', 'd', 'b', 0, 1],\n",
       " ['g', 'd', 'e', 0, 1],\n",
       " ['h', 'e', 'd', 0, 1]]"
      ]
     },
     "execution_count": 50,
     "metadata": {},
     "output_type": "execute_result"
    }
   ],
   "source": [
    "table = rowTable.values.tolist()\n",
    "table"
   ]
  },
  {
   "cell_type": "code",
   "execution_count": 51,
   "id": "05bf3d67",
   "metadata": {},
   "outputs": [
    {
     "data": {
      "text/plain": [
       "[[[], [], [], [], [], [], [], []],\n",
       " [[], [], [], [], [], [], [], []],\n",
       " [[], [], [], [], [], [], [], []],\n",
       " [[], [], [], [], [], [], [], []],\n",
       " [[], [], [], [], [], [], [], []],\n",
       " [[], [], [], [], [], [], [], []],\n",
       " [[], [], [], [], [], [], [], []],\n",
       " [[], [], [], [], [], [], [], []]]"
      ]
     },
     "execution_count": 51,
     "metadata": {},
     "output_type": "execute_result"
    }
   ],
   "source": [
    "STable =[]\n",
    "for i in range(len(table)):\n",
    "    t=[]\n",
    "    for j in range(len(table)):\n",
    "        t.append([])\n",
    "    STable.append(t)\n",
    "STable"
   ]
  },
  {
   "cell_type": "code",
   "execution_count": 52,
   "id": "0f618b4c",
   "metadata": {},
   "outputs": [
    {
     "name": "stdout",
     "output_type": "stream",
     "text": [
      "['a', 'h', 'c', 0, 0]\n",
      "['b', 'h', 'f', 0, 0]\n",
      "['c', 'h', 'a', 0, 1]\n",
      "['d', 'a', 'h', 0, 1]\n",
      "['e', 'd', 'g', 0, 0]\n",
      "['f', 'd', 'b', 0, 1]\n",
      "['g', 'd', 'e', 0, 1]\n",
      "['h', 'e', 'd', 0, 1]\n"
     ]
    }
   ],
   "source": [
    "def disp(l):\n",
    "    for i in l:\n",
    "        print(i)\n",
    "disp(table)"
   ]
  },
  {
   "cell_type": "code",
   "execution_count": null,
   "id": "da99b889",
   "metadata": {},
   "outputs": [],
   "source": []
  },
  {
   "cell_type": "code",
   "execution_count": 53,
   "id": "b916312e",
   "metadata": {},
   "outputs": [
    {
     "name": "stdout",
     "output_type": "stream",
     "text": [
      "[[], [], [], [], [], [], [], []]\n",
      "[['c=f'], [], [], [], [], [], [], []]\n",
      "[['X'], ['X'], [], [], [], [], [], []]\n",
      "[['X'], ['X'], ['h=a', 'a=h'], [], [], [], [], []]\n",
      "[['h=d', 'c=g'], ['h=d', 'f=g'], ['X'], ['X'], [], [], [], []]\n",
      "[['X'], ['X'], ['h=d', 'a=b'], ['a=d', 'h=b'], ['X'], [], [], []]\n",
      "[['X'], ['X'], ['h=d', 'a=e'], ['a=d', 'h=e'], ['X'], ['b=e'], [], []]\n",
      "[['X'], ['X'], ['h=e', 'a=d'], ['a=e'], ['X'], ['d=e', 'b=d'], ['d=e', 'e=d'], []]\n"
     ]
    }
   ],
   "source": [
    "# first iteration\n",
    "import time\n",
    "from IPython.display import clear_output\n",
    "\n",
    "row = 0\n",
    "col = 0\n",
    "\n",
    "for i in range(0, len(table)):\n",
    "    for j in range(0, len(table)):\n",
    "#         disp(STable)\n",
    "#         time.sleep(0.5)\n",
    "#         clear_output(wait=True)\n",
    "        \n",
    "        if i!=j and i<j and row<len(table):\n",
    "            if table[i][3:]==table[j][3:] and 'X' not in STable[row][col]:\n",
    "                \"\"\"\n",
    "                If fully eq states then justt add row+col to it\n",
    "                \"\"\"\n",
    "                if table[i][1:3] == table[j][1:3]:\n",
    "                    STable[row][col].append(table[i][0]+\"=\"+table[j][0])\n",
    "                else:\n",
    "                    if table[i][1] != table[j][1] and (table[i][0]+table[j][0]) != table[i][1]+table[j][1] and (table[i][0]+table[j][0]) != table[j][1]+table[i][1]:\n",
    "                        STable[row][col].append(table[i][1]+\"=\"+table[j][1])\n",
    "                    if (table[i][2]+\"=\"+table[j][2]) not in STable[row][col] and table[i][2] != table[j][2] and (table[i][0]+table[j][0]) != table[i][2]+table[j][2] and (table[i][0]+table[j][0]) != table[j][2]+table[i][2]:\n",
    "                        STable[row][col].append(table[i][2]+\"=\"+table[j][2])\n",
    "            else:\n",
    "                STable[row][col].append('X')\n",
    "            if len(STable[row][col])==0:\n",
    "                STable[row][col].append('X')\n",
    "        row+=1\n",
    "    col+=1\n",
    "    row=0\n",
    "    \n",
    "disp(STable)"
   ]
  },
  {
   "cell_type": "code",
   "execution_count": 54,
   "id": "a3afca18",
   "metadata": {},
   "outputs": [
    {
     "name": "stdout",
     "output_type": "stream",
     "text": [
      "['c=f'] \n",
      "['X'] ['X'] \n",
      "['X'] ['X'] ['h=a', 'a=h'] \n",
      "['h=d', 'c=g'] ['h=d', 'f=g'] ['X'] ['X'] \n",
      "['X'] ['X'] ['h=d', 'a=b'] ['a=d', 'h=b'] ['X'] \n",
      "['X'] ['X'] ['h=d', 'a=e'] ['a=d', 'h=e'] ['X'] ['b=e'] \n",
      "['X'] ['X'] ['h=e', 'a=d'] ['a=e'] ['X'] ['d=e', 'b=d'] ['d=e', 'e=d'] \n"
     ]
    },
    {
     "data": {
      "text/plain": [
       "['c=a',\n",
       " 'c=b',\n",
       " 'd=a',\n",
       " 'd=b',\n",
       " 'e=c',\n",
       " 'e=d',\n",
       " 'f=a',\n",
       " 'f=b',\n",
       " 'f=e',\n",
       " 'g=a',\n",
       " 'g=b',\n",
       " 'g=e',\n",
       " 'h=a',\n",
       " 'h=b',\n",
       " 'h=e']"
      ]
     },
     "execution_count": 54,
     "metadata": {},
     "output_type": "execute_result"
    }
   ],
   "source": [
    "row = 'b'\n",
    "col = 'a'\n",
    "row1 = 0\n",
    "col1 = 0\n",
    "notEqState = []\n",
    "for i in range(1, len(STable)):\n",
    "    for j in range(0, i):\n",
    "        print(STable[i][j], end =\" \")\n",
    "        if 'X' in STable[i][j]:\n",
    "            notEqState.append(row+'='+col)\n",
    "        col = chr(ord(col)+1)\n",
    "    row = chr(ord(row)+1)\n",
    "    col = 'a'\n",
    "    print()\n",
    "\n",
    "\n",
    "#         print(STtable[i][j])\n",
    "notEqState"
   ]
  },
  {
   "cell_type": "code",
   "execution_count": 55,
   "id": "36d26ebe",
   "metadata": {},
   "outputs": [],
   "source": [
    "def implication_table_step():\n",
    "    row = 'b'\n",
    "    col = 'a'\n",
    "    for i in range(1, len(STable)):\n",
    "        for j in range(0, i):\n",
    "#             disp(STable)\n",
    "#             time.sleep(0.5)\n",
    "#             clear_output(wait=True)\n",
    "#             print(STable[i][j], end =\" \")\n",
    "            for k in STable[i][j]:\n",
    "                if k in notEqState or k[::-1] in notEqState and k!='X':\n",
    "                    notEqState.append(row+'='+col)\n",
    "#                     notEqState.extend(STable[i][j])\n",
    "                    STable[i][j]=['X']\n",
    "            col = chr(ord(col)+1)\n",
    "        row = chr(ord(row)+1)\n",
    "        col = 'a'\n",
    "\n",
    "#     print()"
   ]
  },
  {
   "cell_type": "code",
   "execution_count": 56,
   "id": "913751a6",
   "metadata": {},
   "outputs": [],
   "source": [
    "def repeat_implication_table():\n",
    "    xCount = 0\n",
    "    xCountNew = 0\n",
    "    for i in range(1, len(STable)):\n",
    "        for j in range(0, i):\n",
    "            xCount = 0\n",
    "            xCountNew = 0\n",
    "            for k in range(1, len(STable)):\n",
    "                for l in range(0, k):\n",
    "                    if STable[k][l]==['X']:\n",
    "                        xCount+=1\n",
    "            implication_table_step()\n",
    "            for k in range(1, len(STable)):\n",
    "                for l in range(0, k):\n",
    "                    if STable[k][l]==['X']:\n",
    "                        xCountNew+=1\n",
    "#             print('test',xCountNew,int((len(STable)-1)*(len(STable))/2))\n",
    "            if xCount==xCountNew or xCountNew==int((len(STable)-1)*(len(STable))/2):\n",
    "                return"
   ]
  },
  {
   "cell_type": "code",
   "execution_count": 57,
   "id": "62fc03f2",
   "metadata": {},
   "outputs": [
    {
     "name": "stdout",
     "output_type": "stream",
     "text": [
      "[[], [], [], [], [], [], [], []]\n",
      "[['c=f'], [], [], [], [], [], [], []]\n",
      "[['X'], ['X'], [], [], [], [], [], []]\n",
      "[['X'], ['X'], ['h=a', 'a=h'], [], [], [], [], []]\n",
      "[['h=d', 'c=g'], ['h=d', 'f=g'], ['X'], ['X'], [], [], [], []]\n",
      "[['X'], ['X'], ['h=d', 'a=b'], ['a=d', 'h=b'], ['X'], [], [], []]\n",
      "[['X'], ['X'], ['h=d', 'a=e'], ['a=d', 'h=e'], ['X'], ['b=e'], [], []]\n",
      "[['X'], ['X'], ['h=e', 'a=d'], ['a=e'], ['X'], ['d=e', 'b=d'], ['d=e', 'e=d'], []]\n"
     ]
    }
   ],
   "source": [
    "disp(STable)"
   ]
  },
  {
   "cell_type": "code",
   "execution_count": 58,
   "id": "71dc748f",
   "metadata": {},
   "outputs": [],
   "source": [
    "repeat_implication_table()"
   ]
  },
  {
   "cell_type": "code",
   "execution_count": 59,
   "id": "214801ce",
   "metadata": {},
   "outputs": [
    {
     "data": {
      "text/plain": [
       "[['c=f'],\n",
       " ['h=d', 'c=g'],\n",
       " ['h=d', 'f=g'],\n",
       " ['h=d', 'a=b'],\n",
       " ['h=d', 'a=e'],\n",
       " ['b=e'],\n",
       " ['a=e']]"
      ]
     },
     "execution_count": 59,
     "metadata": {},
     "output_type": "execute_result"
    }
   ],
   "source": [
    "equivalentStates = []\n",
    "for i in range(1, len(STable)):\n",
    "    for j in range(0, i):\n",
    "        if STable[i][j]!=['X']:\n",
    "            equivalentStates.append(STable[i][j])\n",
    "equivalentStates"
   ]
  },
  {
   "cell_type": "code",
   "execution_count": null,
   "id": "61adfe93",
   "metadata": {},
   "outputs": [],
   "source": []
  },
  {
   "cell_type": "code",
   "execution_count": 60,
   "id": "f9763a8b",
   "metadata": {},
   "outputs": [
    {
     "data": {
      "text/plain": [
       "[['a', 'h', 'c', 0, 0],\n",
       " ['b', 'h', 'f', 0, 0],\n",
       " ['c', 'h', 'a', 0, 1],\n",
       " ['d', 'a', 'h', 0, 1],\n",
       " ['e', 'd', 'g', 0, 0],\n",
       " ['f', 'd', 'b', 0, 1],\n",
       " ['g', 'd', 'e', 0, 1],\n",
       " ['h', 'e', 'd', 0, 1]]"
      ]
     },
     "execution_count": 60,
     "metadata": {},
     "output_type": "execute_result"
    }
   ],
   "source": [
    "table"
   ]
  },
  {
   "cell_type": "code",
   "execution_count": 61,
   "id": "1738a2dc",
   "metadata": {},
   "outputs": [],
   "source": [
    "def transpose(l1, l2):\n",
    "    l2 =[[row[i] for row in l1] for i in range(len(l1[0]))]\n",
    "    return l2"
   ]
  },
  {
   "cell_type": "code",
   "execution_count": 62,
   "id": "c9279d5e",
   "metadata": {},
   "outputs": [
    {
     "name": "stdout",
     "output_type": "stream",
     "text": [
      "[[], [], [], [], [], [], [], []]\n",
      "[['c=f'], [], [], [], [], [], [], []]\n",
      "[['X'], ['X'], [], [], [], [], [], []]\n",
      "[['X'], ['X'], ['X'], [], [], [], [], []]\n",
      "[['h=d', 'c=g'], ['h=d', 'f=g'], ['X'], ['X'], [], [], [], []]\n",
      "[['X'], ['X'], ['h=d', 'a=b'], ['X'], ['X'], [], [], []]\n",
      "[['X'], ['X'], ['h=d', 'a=e'], ['X'], ['X'], ['b=e'], [], []]\n",
      "[['X'], ['X'], ['X'], ['a=e'], ['X'], ['X'], ['X'], []]\n"
     ]
    }
   ],
   "source": [
    "disp(STable)"
   ]
  },
  {
   "cell_type": "code",
   "execution_count": 63,
   "id": "8cfa5ad0",
   "metadata": {},
   "outputs": [
    {
     "name": "stdout",
     "output_type": "stream",
     "text": [
      "ba \n",
      "ca cb \n",
      "da db dc \n",
      "ea eb ec ed \n",
      "fa fb fc fd fe \n",
      "ga gb gc gd ge gf \n",
      "ha hb hc hd he hf hg \n"
     ]
    },
    {
     "data": {
      "text/plain": [
       "[['b', 'a'],\n",
       " ['c'],\n",
       " ['d'],\n",
       " ['e', 'a', 'b'],\n",
       " ['f', 'c'],\n",
       " ['g', 'c', 'f'],\n",
       " ['h', 'd']]"
      ]
     },
     "execution_count": 63,
     "metadata": {},
     "output_type": "execute_result"
    }
   ],
   "source": [
    "row = 'b'\n",
    "col = 'a'\n",
    "row1 = 0\n",
    "col1 = 0\n",
    "notEqState = []\n",
    "for i in range(1, len(STable)):\n",
    "    notEqStateRow=[row]\n",
    "    for j in range(0, i):\n",
    "        print(row+col, end =\" \")\n",
    "        if 'X' not in STable[i][j]:\n",
    "            notEqStateRow.append(col)\n",
    "        col = chr(ord(col)+1)\n",
    "    row = chr(ord(row)+1)\n",
    "    notEqState.append(notEqStateRow)\n",
    "    col = 'a'\n",
    "    print()\n",
    "\n",
    "notEqState"
   ]
  },
  {
   "cell_type": "code",
   "execution_count": 64,
   "id": "1b15905b",
   "metadata": {},
   "outputs": [],
   "source": [
    "STable=transpose(STable,[])"
   ]
  },
  {
   "cell_type": "code",
   "execution_count": 65,
   "id": "18338672",
   "metadata": {},
   "outputs": [
    {
     "name": "stdout",
     "output_type": "stream",
     "text": [
      "[[], ['c=f'], ['X'], ['X'], ['h=d', 'c=g'], ['X'], ['X'], ['X']]\n",
      "[[], [], ['X'], ['X'], ['h=d', 'f=g'], ['X'], ['X'], ['X']]\n",
      "[[], [], [], ['X'], ['X'], ['h=d', 'a=b'], ['h=d', 'a=e'], ['X']]\n",
      "[[], [], [], [], ['X'], ['X'], ['X'], ['a=e']]\n",
      "[[], [], [], [], [], ['X'], ['X'], ['X']]\n",
      "[[], [], [], [], [], [], ['b=e'], ['X']]\n",
      "[[], [], [], [], [], [], [], ['X']]\n",
      "[[], [], [], [], [], [], [], []]\n"
     ]
    }
   ],
   "source": [
    "disp(STable)"
   ]
  },
  {
   "cell_type": "code",
   "execution_count": 66,
   "id": "9dacc138",
   "metadata": {},
   "outputs": [
    {
     "name": "stdout",
     "output_type": "stream",
     "text": [
      "['c=f'] ['X'] ['X'] ['h=d', 'c=g'] ['X'] ['X'] ['X'] \n",
      "['X'] ['X'] ['h=d', 'f=g'] ['X'] ['X'] ['X'] \n",
      "['X'] ['X'] ['h=d', 'a=b'] ['h=d', 'a=e'] ['X'] \n",
      "['X'] ['X'] ['X'] ['a=e'] \n",
      "['X'] ['X'] ['X'] \n",
      "['b=e'] ['X'] \n",
      "['X'] \n"
     ]
    },
    {
     "data": {
      "text/plain": [
       "[['a', 'b', 'e'],\n",
       " ['b', 'e'],\n",
       " ['c', 'f', 'g'],\n",
       " ['d', 'h'],\n",
       " ['e'],\n",
       " ['f', 'g'],\n",
       " ['g']]"
      ]
     },
     "execution_count": 66,
     "metadata": {},
     "output_type": "execute_result"
    }
   ],
   "source": [
    "row = 'a'\n",
    "col = 'b'\n",
    "row1 = 0\n",
    "col1 = 0\n",
    "EqState = []\n",
    "for i in range(0, len(STable)-1):\n",
    "    EqStateRow=[row]\n",
    "    for j in range(i+1, len(STable)):\n",
    "#         print(row+col, end =\" \")\n",
    "        print(STable[i][j],end=\" \")\n",
    "        if 'X' not in STable[i][j]:\n",
    "            EqStateRow.append(col)\n",
    "        col = chr(ord(col)+1)\n",
    "    row = chr(ord(row)+1)\n",
    "    EqState.append(EqStateRow)\n",
    "    col = chr(ord(row)+1)\n",
    "    print()\n",
    "\n",
    "EqState"
   ]
  },
  {
   "cell_type": "code",
   "execution_count": 67,
   "id": "6d0695a3",
   "metadata": {},
   "outputs": [
    {
     "data": {
      "text/plain": [
       "[['a', 'h', 'c', 0, 0],\n",
       " ['b', 'h', 'f', 0, 0],\n",
       " ['c', 'h', 'a', 0, 1],\n",
       " ['d', 'a', 'h', 0, 1],\n",
       " ['e', 'd', 'g', 0, 0],\n",
       " ['f', 'd', 'b', 0, 1],\n",
       " ['g', 'd', 'e', 0, 1],\n",
       " ['h', 'e', 'd', 0, 1]]"
      ]
     },
     "execution_count": 67,
     "metadata": {},
     "output_type": "execute_result"
    }
   ],
   "source": [
    "table"
   ]
  },
  {
   "cell_type": "code",
   "execution_count": 68,
   "id": "1e7aaec7",
   "metadata": {},
   "outputs": [],
   "source": [
    "for i in EqState:\n",
    "    if len(i)>1:\n",
    "        for j in range(1,len(i)):\n",
    "            for k in range(len(table)):\n",
    "                if(table[k][0]==i[j]):\n",
    "                    del table[k]\n",
    "                    break\n",
    "            for k in range(len(table)):\n",
    "                for l in range(1,3):\n",
    "                    if table[k][l]==i[j]:\n",
    "                        table[k][l]==i[0]"
   ]
  },
  {
   "cell_type": "code",
   "execution_count": 69,
   "id": "b7c4ab0b",
   "metadata": {},
   "outputs": [
    {
     "data": {
      "text/plain": [
       "[['a', 'h', 'c', 0, 0], ['c', 'h', 'a', 0, 1], ['d', 'a', 'h', 0, 1]]"
      ]
     },
     "execution_count": 69,
     "metadata": {},
     "output_type": "execute_result"
    }
   ],
   "source": [
    "table"
   ]
  }
 ],
 "metadata": {
  "kernelspec": {
   "display_name": "Python 3 (ipykernel)",
   "language": "python",
   "name": "python3"
  },
  "language_info": {
   "codemirror_mode": {
    "name": "ipython",
    "version": 3
   },
   "file_extension": ".py",
   "mimetype": "text/x-python",
   "name": "python",
   "nbconvert_exporter": "python",
   "pygments_lexer": "ipython3",
   "version": "3.9.12"
  }
 },
 "nbformat": 4,
 "nbformat_minor": 5
}
